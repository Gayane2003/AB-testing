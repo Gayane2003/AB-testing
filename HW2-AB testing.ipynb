{
 "cells": [
  {
   "cell_type": "markdown",
   "id": "dbf2a14d",
   "metadata": {},
   "source": [
    "# Implementation Of Epsilon Greedy and Thompson Sampling Algorithms"
   ]
  },
  {
   "cell_type": "markdown",
   "id": "aff0df5f",
   "metadata": {},
   "source": [
    "## Importing Necessary Packages"
   ]
  },
  {
   "cell_type": "code",
   "execution_count": 1,
   "id": "702538a0",
   "metadata": {},
   "outputs": [],
   "source": [
    "from abc import ABC, abstractmethod\n",
    "from logs import *\n",
    "import numpy as np\n",
    "import matplotlib.pyplot as plt\n",
    "import csv\n",
    "import pandas as pd\n",
    "from matplotlib.pyplot import plot\n",
    "import os"
   ]
  },
  {
   "cell_type": "code",
   "execution_count": 2,
   "id": "e1a80994",
   "metadata": {},
   "outputs": [],
   "source": [
    "logger = logging.getLogger(\"MAB Application\")\n",
    "\n",
    "# create console handler with a higher log level\n",
    "ch = logging.StreamHandler()\n",
    "ch.setLevel(logging.DEBUG)\n",
    "\n",
    "ch.setFormatter(CustomFormatter())\n",
    "\n",
    "logger.addHandler(ch)"
   ]
  },
  {
   "cell_type": "markdown",
   "id": "9548755e",
   "metadata": {},
   "source": [
    "## Initializing Bandit class"
   ]
  },
  {
   "cell_type": "code",
   "execution_count": 3,
   "id": "befc5878",
   "metadata": {},
   "outputs": [],
   "source": [
    "class Bandit(ABC):\n",
    "    @abstractmethod\n",
    "    def __init__(self, p):\n",
    "        pass\n",
    "        \n",
    "    @abstractmethod\n",
    "    def __repr__(self):\n",
    "        pass\n",
    "\n",
    "    @abstractmethod\n",
    "    def pull(self):\n",
    "        pass\n",
    "\n",
    "    @abstractmethod\n",
    "    def update(self):\n",
    "        pass\n",
    "\n",
    "    @abstractmethod\n",
    "    def experiment(self):\n",
    "        pass\n",
    "\n",
    "    @abstractmethod\n",
    "    def report(self):\n",
    "        # store data in csv\n",
    "        # log average reward (use f strings to make it informative)\n",
    "        # log average regret (use f strings to make it informative)\n",
    "        pass"
   ]
  },
  {
   "cell_type": "markdown",
   "id": "01a1d453",
   "metadata": {},
   "source": [
    "## Implementation of Epsilon Greedy algorithm"
   ]
  },
  {
   "cell_type": "code",
   "execution_count": 4,
   "id": "0d818404",
   "metadata": {},
   "outputs": [],
   "source": [
    "class EpsilonGreedy(Bandit):\n",
    "    def __init__(self, parameter, win_type: str):\n",
    "        \"\"\"\n",
    "        Initialize the EpsilonGreedy bandit.\n",
    "\n",
    "        Args:\n",
    "            parameter (float): The true parameter of the bandit.\n",
    "            win_type (str): Type of win, either \"binary-win\" for binary outcomes or \"multy-win\" for continuous outcomes.\n",
    "        \"\"\"\n",
    "        self.parameter = parameter  # True parameter of the bandit\n",
    "        self.parameter_estimate = 0  # Estimated parameter initialized to 0\n",
    "        self.parameter_history = [self.parameter_estimate]  # History of parameter estimates\n",
    "        self.win_type = win_type  # Type of win\n",
    "        self.n = 0  # Number of pulls\n",
    "\n",
    "    def __repr__(self):\n",
    "        \"\"\"\n",
    "        Return a string representation of the bandit.\n",
    "        \"\"\"\n",
    "        return f'Bandit with {self.parameter} Win Rate'\n",
    "\n",
    "    def pull(self):\n",
    "        \"\"\"\n",
    "        Simulate a single pull of the bandit.\n",
    "\n",
    "        Returns:\n",
    "            bool or float: The outcome of the pull.\n",
    "        \"\"\"\n",
    "        if self.win_type == \"binary-win\":\n",
    "            # For binary-win, return True with probability equal to the parameter\n",
    "            return np.random.random() < self.parameter\n",
    "        \n",
    "        elif self.win_type == \"multy-win\":\n",
    "            # For multy-win, return a sample from a normal distribution with mean equal to the parameter\n",
    "            return np.random.randn() + self.parameter\n",
    "        \n",
    "\n",
    "    def update(self, x):\n",
    "        \"\"\"\n",
    "        Update the parameter estimate based on the outcome of a pull.\n",
    "\n",
    "        Args:\n",
    "            x (bool or float): The outcome of the pull.\n",
    "        \"\"\"\n",
    "        self.n += 1  # Increment the number of pulls\n",
    "        if self.win_type == \"binary-win\":\n",
    "            # Update the parameter estimate using incremental averaging\n",
    "            self.parameter_estimate = ((self.n - 1)*self.parameter_estimate + x) / self.n\n",
    "\n",
    "        elif self.win_type == \"multy-win\":\n",
    "            # Update the parameter estimate using a weighted average\n",
    "            self.parameter_estimate = (1 - 1.0/self.n)*self.parameter_estimate + 1.0/self.n*x\n",
    "        \n",
    "        self.parameter_history.append(self.parameter_estimate)  # Record the parameter estimate in history\n",
    "        \n",
    "    def experiment(self):\n",
    "        \"\"\"\n",
    "        Perform an experiment with the bandit.\n",
    "        \"\"\"\n",
    "        pass  # Placeholder for conducting an experiment\n",
    "\n",
    "    def report(self):\n",
    "        \"\"\"\n",
    "        Generate a report on the bandit's performance.\n",
    "        \"\"\"\n",
    "        pass  # Placeholder for reporting results\n"
   ]
  },
  {
   "cell_type": "markdown",
   "id": "18016097",
   "metadata": {},
   "source": [
    "## Implementation of Thompson Sampling algorithm"
   ]
  },
  {
   "cell_type": "code",
   "execution_count": 5,
   "id": "c1b9b086",
   "metadata": {},
   "outputs": [],
   "source": [
    "class ThompsonSampling(Bandit):\n",
    "    def __init__(self, parameter, win_type: str):\n",
    "        \"\"\"\n",
    "        Initialize the Thompson Sampling bandit.\n",
    "\n",
    "        Args:\n",
    "            parameter (float): The true parameter of the bandit.\n",
    "            win_type (str): Type of win, either \"binary-win\" for binary outcomes or \"multy-win\" for continuous outcomes.\n",
    "        \"\"\"\n",
    "        self.win_type = win_type  # Type of win\n",
    "        self.parameter = parameter  # True parameter of the bandit\n",
    "        self.parameter_estimate = 0  # Estimated parameter initialized to 0\n",
    "        self.lambda_ = 1  # The precision parameter\n",
    "        self.tau = 1  # Precision parameter for the prior distribution\n",
    "        self.n = 0  # Number of pulls\n",
    "        self.sum_x = 0  # Sum of observed rewards\n",
    "        self.a = 0  # Alpha parameter for binary-win\n",
    "        self.b = 0  # Beta parameter for binary-win\n",
    "        self.parameter_history = [self.parameter_estimate]  # History of parameter estimates\n",
    "\n",
    "    def __repr__(self):\n",
    "        \"\"\"\n",
    "        Return a string representation of the bandit.\n",
    "        \"\"\"\n",
    "        return f'Bandit with {self.parameter} Win Rate'\n",
    "\n",
    "    def pull(self):\n",
    "        \"\"\"\n",
    "        Simulate a single pull of the bandit.\n",
    "\n",
    "        Returns:\n",
    "            bool or float: The outcome of the pull.\n",
    "        \"\"\"\n",
    "        if self.win_type == 'binary-win':\n",
    "            # For binary-win, return True with probability equal to the parameter\n",
    "            return np.random.random() < self.parameter\n",
    "        \n",
    "        elif self.win_type == 'multy-win':\n",
    "            # For multy-win, return a sample from a normal distribution with mean equal to the parameter\n",
    "            return np.random.randn() / np.sqrt(self.tau) + self.parameter\n",
    "            \n",
    "    def sample(self):\n",
    "        \"\"\"\n",
    "        Sample from the posterior distribution.\n",
    "\n",
    "        Returns:\n",
    "            float: Sampled parameter value.\n",
    "        \"\"\"\n",
    "        if self.win_type == 'binary-win':\n",
    "            # Sample from the beta distribution\n",
    "            return np.random.beta(self.a, self.b)\n",
    "    \n",
    "        elif self.win_type == 'multy-win':\n",
    "            # Sample from the normal distribution with updated precision\n",
    "            return np.random.randn() / np.sqrt(self.lambda_) + self.parameter_estimate\n",
    "\n",
    "    def update(self, x):\n",
    "        \"\"\"\n",
    "        Update the bandit based on the outcome of a pull.\n",
    "\n",
    "        Args:\n",
    "            x (bool or float): The outcome of the pull.\n",
    "        \"\"\"\n",
    "        if self.win_type == 'binary-win':\n",
    "            # Update the alpha and beta parameters of the beta distribution\n",
    "            self.a += x\n",
    "            self.b += 1 - x \n",
    "          \n",
    "        elif self.win_type == 'multy-win':\n",
    "            # Update the precision and estimated parameter for multy-win\n",
    "            self.lambda_ += self.tau\n",
    "            self.sum_x += x\n",
    "            self.parameter_estimate = (self.tau * self.sum_x) / self.lambda_\n",
    "            \n",
    "        self.n += 1  # Increment the number of pulls\n",
    "        self.parameter_history.append(self.parameter_estimate)  # Record the parameter estimate in history\n",
    "\n",
    "    def experiment(self):\n",
    "        \"\"\"\n",
    "        Perform an experiment with the bandit.\n",
    "        \"\"\"\n",
    "        pass  # Placeholder for conducting an experiment\n",
    "\n",
    "    def report(self):\n",
    "        \"\"\"\n",
    "        Generate a report on the bandit's performance.\n",
    "        \"\"\"\n",
    "        pass  # Placeholder for reporting results"
   ]
  },
  {
   "cell_type": "markdown",
   "id": "cf016929",
   "metadata": {},
   "source": [
    "## Implementation of Experiment class of Epsilon Greedy and Thompson Sampling algorithms."
   ]
  },
  {
   "cell_type": "code",
   "execution_count": 6,
   "id": "2ac32509",
   "metadata": {},
   "outputs": [],
   "source": [
    "class Experiment():\n",
    "    def __init__(self, num_trials: int, bandit_param: list, win_type: str):\n",
    "        \"\"\"\n",
    "        Initialize the Experiment class.\n",
    "\n",
    "        Args:\n",
    "            num_trials (int): Number of trials for the experiment.\n",
    "            bandit_param (list): List of parameters for bandits.\n",
    "            win_type (str): Type of win, either \"binary-win\" for binary outcomes or \"multy-win\" for continuous outcomes.\n",
    "        \"\"\"\n",
    "        self.num_trials = num_trials  # Number of trials for the experiment\n",
    "        self.bandit_param = bandit_param  # List of parameters for bandits\n",
    "        self.win_type = win_type  # Type of win\n",
    "\n",
    "    def experiment_for_greedy(self):\n",
    "        \"\"\"\n",
    "        Perform an experiment using Epsilon-Greedy bandits.\n",
    "\n",
    "        Returns:\n",
    "            tuple: Tuple containing bandit names, bandits, rewards, number of times explored, number of times exploited, and number of times optimal.\n",
    "        \"\"\"\n",
    "        bandits = [EpsilonGreedy(param, self.win_type) for param in self.bandit_param]  # Initialize EpsilonGreedy bandits\n",
    "        rewards = np.zeros(self.num_trials)  # Array to store rewards\n",
    "        num_times_explored = 0  # Counter for number of times explored\n",
    "        num_times_exploited = 0  # Counter for number of times exploited\n",
    "        num_optimal = 0  # Counter for number of times optimal\n",
    "        bandit_name = []  # List to store bandit names\n",
    "\n",
    "        optimal_j = np.argmax([b.parameter for b in bandits])  # Index of the optimal bandit\n",
    "        for i in range(1, self.num_trials + 1):\n",
    "            EPS = 1 / i  # Decay epsilon value\n",
    "\n",
    "            if np.random.random() < EPS:\n",
    "                num_times_explored += 1\n",
    "                j = np.random.randint(len(bandits))  # Explore randomly\n",
    "\n",
    "            else:\n",
    "                num_times_exploited += 1\n",
    "                j = np.argmax([b.parameter_estimate for b in bandits])  # Exploit best bandit\n",
    "\n",
    "            if j == optimal_j:\n",
    "                num_optimal += 1\n",
    "\n",
    "            x = bandits[j].pull()  # Pull the arm of the selected bandit\n",
    "            rewards[i - 1] = x  # Record the reward\n",
    "            bandits[j].update(x)  # Update the bandit\n",
    "            bandit_name.append(bandits[j])  # Record the bandit name\n",
    "\n",
    "        return bandit_name, bandits, rewards, num_times_explored, num_times_exploited, num_optimal\n",
    "\n",
    "    def experiment_for_thompson(self):\n",
    "        \"\"\"\n",
    "        Perform an experiment using Thompson Sampling bandits.\n",
    "\n",
    "        Returns:\n",
    "            tuple: Tuple containing bandit names, bandits, rewards, number of times explored, number of times exploited, and number of times optimal.\n",
    "        \"\"\"\n",
    "        bandits = [ThompsonSampling(param, self.win_type) for param in self.bandit_param]  # Initialize ThompsonSampling bandits\n",
    "        rewards = np.zeros(self.num_trials)  # Array to store rewards\n",
    "        num_times_explored = 0  # Counter for number of times explored\n",
    "        num_times_exploited = 0  # Counter for number of times exploited\n",
    "        num_optimal = 0  # Counter for number of times optimal\n",
    "        bandit_name = []  # List to store bandit names\n",
    "\n",
    "        optimal_j = np.argmax([b.parameter for b in bandits])  # Index of the optimal bandit\n",
    "        for i in range(1, self.num_trials + 1):\n",
    "            j = np.argmax([b.sample() for b in bandits])  # Select bandit with highest sampled value\n",
    "            if j == optimal_j:\n",
    "                num_optimal += 1\n",
    "\n",
    "            x = bandits[j].pull()  # Pull the arm of the selected bandit\n",
    "            rewards[i - 1] = x  # Record the reward\n",
    "            bandits[j].update(x)  # Update the bandit\n",
    "            bandit_name.append(bandits[j])  # Record the bandit name\n",
    "\n",
    "        return bandit_name, bandits, rewards, num_times_explored, num_times_exploited, num_optimal"
   ]
  },
  {
   "cell_type": "markdown",
   "id": "6532ee1a",
   "metadata": {},
   "source": [
    "## Implementation of Report class which will create vizualizations and print important measures for the algorithms.   "
   ]
  },
  {
   "cell_type": "code",
   "execution_count": 7,
   "id": "00ae83e3",
   "metadata": {},
   "outputs": [],
   "source": [
    "class Report():\n",
    "    def __init__(self, num_trials: int, bandit_param: list, win_type: str, algo_type: str):\n",
    "        \"\"\"\n",
    "        Initialize the Report class.\n",
    "\n",
    "        Args:\n",
    "            num_trials (int): Number of trials for the experiment.\n",
    "            bandit_param (list): List of parameters for bandits.\n",
    "            win_type (str): Type of win, either \"binary-win\" for binary outcomes or \"multy-win\" for continuous outcomes.\n",
    "            algo_type (str): Type of algorithm, either \"Epsilon Greedy\" or \"Thompson Sampling\".\n",
    "        \"\"\"\n",
    "        self.num_trials = num_trials  # Number of trials for the experiment\n",
    "        self.bandit_param = bandit_param  # List of parameters for bandits\n",
    "        self.win_type = win_type  # Type of win\n",
    "        self.algo_type = algo_type  # Type of algorithm\n",
    "\n",
    "        # Initialize an Experiment instance\n",
    "        self.experiment = Experiment(self.num_trials, self.bandit_param, self.win_type)\n",
    "\n",
    "        # Perform the experiment based on the chosen algorithm type\n",
    "        if self.algo_type == \"Epsilon Greedy\":\n",
    "            self.bandit_name, self.bandits, self.rewards, self.num_times_explored, self.num_times_exploited, self.num_optimal = self.experiment.experiment_for_greedy()\n",
    "        elif self.algo_type == \"Thompson Sampling\":\n",
    "            self.bandit_name, self.bandits, self.rewards, self.num_times_explored, self.num_times_exploited, self.num_optimal = self.experiment.experiment_for_thompson()\n",
    "\n",
    "    def plot1(self):\n",
    "        \"\"\"\n",
    "        Plot the learning process of the algorithm.\n",
    "        \"\"\"\n",
    "        for b in self.bandits:\n",
    "            plt.plot(b.parameter_history, label=f'Bandit {b.parameter}')\n",
    "\n",
    "        plt.xlabel('Number of Trials')\n",
    "        plt.ylabel('Parameter Estimate')\n",
    "        plt.yscale('symlog')\n",
    "        plt.xscale('symlog')\n",
    "        plt.title(f'Learning Process of the {self.algo_type} Algorithm')\n",
    "        plt.legend()\n",
    "        plt.show()\n",
    "\n",
    "    def plot2(self):\n",
    "        \"\"\"\n",
    "        Plot the convergence of the algorithm's win rate.\n",
    "        \"\"\"\n",
    "        cumulative_rewards = np.cumsum(self.rewards)\n",
    "        win_rates = cumulative_rewards / (np.arange(self.num_trials) + 1)\n",
    "        plt.plot(win_rates, label=\"Win Rate\")\n",
    "        plt.plot(np.ones(self.num_trials) * np.max(self.bandit_param), label='Optimal Win Rate')\n",
    "        plt.legend()\n",
    "        plt.title(f\"Win Rate Convergence of the {self.algo_type} Algorithm\")\n",
    "        plt.xlabel(\"Number of Trials\")\n",
    "        plt.ylabel(\"Average Reward\")\n",
    "        plt.show()\n",
    "\n",
    "    def reward_file_store(self):\n",
    "        \"\"\"\n",
    "        Store bandit names and rewards in a CSV file.\n",
    "        \"\"\"\n",
    "        rewards_storage = \"bandit_rewards.csv\"\n",
    "\n",
    "        # Open the CSV file in append mode\n",
    "        with open(rewards_storage, 'a', newline='') as file:\n",
    "            writer = csv.writer(file)\n",
    "\n",
    "            # If this is the first write, write the header row\n",
    "            if file.tell() == 0:\n",
    "                writer.writerow(['bandit_name', 'reward', 'algorithm'])\n",
    "\n",
    "            # Write each bandit name and reward as a row in the CSV file\n",
    "            for bandit_name, reward in zip(self.bandit_name, self.rewards):\n",
    "                writer.writerow([bandit_name, float(reward), self.algo_type])\n",
    "\n",
    "        return \"Rewards are stored in csv\"\n",
    "\n",
    "    def removing_reward_file(self):\n",
    "        \"\"\"\n",
    "        Remove the reward CSV file if it exists.\n",
    "        \"\"\"\n",
    "        rewards_storage = \"bandit_rewards.csv\"\n",
    "\n",
    "        # Check if the file exists\n",
    "        if os.path.exists(rewards_storage):\n",
    "            # If it exists, delete the file\n",
    "            os.remove(rewards_storage)\n",
    "            return \"Existing rewards file deleted\"\n",
    "        else:\n",
    "            return \"No existing rewards file found\"\n",
    "\n",
    "    def report(self):\n",
    "        \"\"\"\n",
    "        Print the cumulative reward for the algorithm.\n",
    "        \"\"\"\n",
    "        cumulative_reward = sum(self.rewards)\n",
    "        optimal_reward = self.num_trials * max(self.bandit_param)\n",
    "        cumulative_regret = optimal_reward - cumulative_reward\n",
    "        \n",
    "        print(f\"The cumulative reward of {self.algo_type} : {round(cumulative_reward, 2)}\")\n",
    "        print(f\"The cumulative regret of {self.algo_type} : {round(cumulative_regret, 2)}\")"
   ]
  },
  {
   "cell_type": "code",
   "execution_count": 8,
   "id": "443a28c5",
   "metadata": {},
   "outputs": [],
   "source": [
    "def comparison(algo_report1, algo_report2):\n",
    "    name_algo1 = algo_report1.algo_type\n",
    "    name_algo2 = algo_report2.algo_type\n",
    "    reward_algo1 = algo_report1.rewards\n",
    "    reward_algo2 = algo_report2.rewards\n",
    "    \n",
    "    num_optimal_algo1 = algo_report1.num_optimal\n",
    "    num_optimal_algo2 = algo_report2.num_optimal\n",
    "\n",
    "    # Create box plot\n",
    "    plt.figure(figsize=(10, 6))\n",
    "    plt.boxplot([reward_algo1, reward_algo2])\n",
    "    plt.xlabel('Algorithm')\n",
    "    plt.ylabel('Rewards')\n",
    "    plt.title('Comparison of Rewards by Algorithm')\n",
    "    plt.xticks([1, 2], [name_algo1, name_algo2])\n",
    "    plt.grid(True)\n",
    "    plt.show()\n",
    "    \n",
    "\n",
    "    names = [name_algo1, name_algo2]\n",
    "    optimals = [num_optimal_algo1, num_optimal_algo2]\n",
    "    \n",
    "    fig, ax = plt.subplots()\n",
    "    ax.bar(names, optimals)\n",
    "    plt.xlabel('Algorithm')\n",
    "    plt.ylabel('Number of Optimal Solutions')\n",
    "    plt.title('Comparison of Optimal Solutions by Algorithm')\n",
    "    plt.show()\n",
    "    \n",
    "    "
   ]
  },
  {
   "cell_type": "markdown",
   "id": "0d3c0a8c",
   "metadata": {},
   "source": [
    "## Testing the performance of the algorithms"
   ]
  },
  {
   "cell_type": "markdown",
   "id": "06082773",
   "metadata": {},
   "source": [
    "## Epsilon Greedy Report result"
   ]
  },
  {
   "cell_type": "code",
   "execution_count": 9,
   "id": "56367e5a",
   "metadata": {},
   "outputs": [],
   "source": [
    "np.random.seed(1)\n",
    "Bandit_Reward = [1,2,3,4] \n",
    "NumberOfTrials =  20000\n",
    "binary_win = 'binary-win'\n",
    "multy_win = 'multy-win'\n",
    "\n",
    "epsilon = \"Epsilon Greedy\"\n",
    "thompson = \"Thompson Sampling\""
   ]
  },
  {
   "cell_type": "code",
   "execution_count": 10,
   "id": "dcc27996",
   "metadata": {},
   "outputs": [
    {
     "data": {
      "image/png": "[encoded data removed]",
      "text/plain": [
       "<Figure size 432x288 with 1 Axes>"
      ]
     },
     "metadata": {
      "needs_background": "light"
     },
     "output_type": "display_data"
    },
    {
     "data": {
      "image/png": "[encoded data removed]",
      "text/plain": [
       "<Figure size 432x288 with 1 Axes>"
      ]
     },
     "metadata": {
      "needs_background": "light"
     },
     "output_type": "display_data"
    },
    {
     "name": "stdout",
     "output_type": "stream",
     "text": [
      "The cumulative reward of Epsilon Greedy : 79735.95\n",
      "The cumulative regret of Epsilon Greedy : 264.05\n"
     ]
    }
   ],
   "source": [
    "report_for_greedy = Report(NumberOfTrials, Bandit_Reward, multy_win, epsilon)\n",
    "report_for_greedy.plot1()\n",
    "report_for_greedy.plot2()\n",
    "report_for_greedy.report()"
   ]
  },
  {
   "cell_type": "markdown",
   "id": "504384d6",
   "metadata": {},
   "source": [
    "According to the both visualization, the Bandit 4 is considered better choice because after performing around 200 experiments, the Greedy algorithm starts choosing only Bandit 4 which after 2000 trials converges to the optimal mean by updating the estimated parameter."
   ]
  },
  {
   "cell_type": "markdown",
   "id": "db21a49e",
   "metadata": {},
   "source": [
    "## Thompson Sampling Report Result"
   ]
  },
  {
   "cell_type": "code",
   "execution_count": 11,
   "id": "00ee3a1b",
   "metadata": {},
   "outputs": [
    {
     "data": {
      "image/png": "[encoded data removed]",
      "text/plain": [
       "<Figure size 432x288 with 1 Axes>"
      ]
     },
     "metadata": {
      "needs_background": "light"
     },
     "output_type": "display_data"
    },
    {
     "data": {
      "image/png": "[encoded data removed]",
      "text/plain": [
       "<Figure size 432x288 with 1 Axes>"
      ]
     },
     "metadata": {
      "needs_background": "light"
     },
     "output_type": "display_data"
    },
    {
     "name": "stdout",
     "output_type": "stream",
     "text": [
      "The cumulative reward of Thompson Sampling : 79029.14\n",
      "The cumulative regret of Thompson Sampling : 970.86\n"
     ]
    }
   ],
   "source": [
    "report_for_thomson = Report(NumberOfTrials, Bandit_Reward, multy_win, thompson)\n",
    "report_for_thomson.plot1()\n",
    "report_for_thomson.plot2()\n",
    "report_for_thomson.report()"
   ]
  },
  {
   "cell_type": "markdown",
   "id": "f095bb8d",
   "metadata": {},
   "source": [
    "According to the both visualization, the Bandit 4 is considered better choice because after performing around 800 experiments, the Thompson Sampling algorithm starts choosing only Bandit 4 which after 2000 trials converges to the optimal mean by updating the estimated parameter.\n",
    "\n",
    "It is important to mention that in this example, the Greedy algorithm performs better than Thompson Sampling because in the Greedy algorithm, the Bandit 4 converges to the actual mean quicker. Besides, the cumulative regret is considerably higher for Thompson Sampling."
   ]
  },
  {
   "cell_type": "code",
   "execution_count": 12,
   "id": "c516289c",
   "metadata": {},
   "outputs": [
    {
     "data": {
      "image/png": "[encoded data removed]",
      "text/plain": [
       "<Figure size 720x432 with 1 Axes>"
      ]
     },
     "metadata": {
      "needs_background": "light"
     },
     "output_type": "display_data"
    },
    {
     "data": {
      "image/png": "[encoded data removed]",
      "text/plain": [
       "<Figure size 432x288 with 1 Axes>"
      ]
     },
     "metadata": {
      "needs_background": "light"
     },
     "output_type": "display_data"
    }
   ],
   "source": [
    "comparison(report_for_greedy, report_for_thomson)"
   ]
  },
  {
   "cell_type": "markdown",
   "id": "ccfa5be1",
   "metadata": {},
   "source": [
    "* Box Plot Interpretation\n",
    "    * For both of the algorithms the median rewards are almost 4. If we look closely, we can find that the median of Greedy algorithm is a bit closer to 4 than Thompson's mean. Both of the algorithms got a lot of outliers and almost equal variances.\n",
    "* Bar Plot Interpretation\n",
    "    * The plot shows that the Greedy algorithm generated more optimal values than Thompson Samling. However, both of them performed well and have optimal solutions close to number of trials."
   ]
  },
  {
   "cell_type": "code",
   "execution_count": 13,
   "id": "f01ad0fa",
   "metadata": {},
   "outputs": [
    {
     "data": {
      "text/plain": [
       "'No existing rewards file found'"
      ]
     },
     "execution_count": 13,
     "metadata": {},
     "output_type": "execute_result"
    }
   ],
   "source": [
    "report_for_thomson.removing_reward_file()"
   ]
  },
  {
   "cell_type": "code",
   "execution_count": 14,
   "id": "426a8a70",
   "metadata": {},
   "outputs": [
    {
     "data": {
      "text/plain": [
       "'Rewards are stored in csv'"
      ]
     },
     "execution_count": 14,
     "metadata": {},
     "output_type": "execute_result"
    }
   ],
   "source": [
    "report_for_greedy.reward_file_store()\n",
    "report_for_thomson.reward_file_store()"
   ]
  },
  {
   "cell_type": "code",
   "execution_count": 15,
   "id": "1dcc05ed",
   "metadata": {
    "scrolled": false
   },
   "outputs": [
    {
     "name": "stderr",
     "output_type": "stream",
     "text": [
      "\u001b[33;20m2024-04-13 21:05:17,563 - MAB Application - WARNING - warning message (line: 5)\u001b[0m\n",
      "\u001b[31;20m2024-04-13 21:05:17,571 - MAB Application - ERROR - error message (line: 6)\u001b[0m\n",
      "\u001b[31;1m2024-04-13 21:05:17,572 - MAB Application - CRITICAL - critical message (line: 7)\u001b[0m\n"
     ]
    }
   ],
   "source": [
    "\n",
    "if __name__=='__main__':\n",
    "\n",
    "    logger.debug(\"debug message\")\n",
    "    logger.info(\"info message\")\n",
    "    logger.warning(\"warning message\")\n",
    "    logger.error(\"error message\")\n",
    "    logger.critical(\"critical message\")\n"
   ]
  },
  {
   "cell_type": "code",
   "execution_count": null,
   "id": "fa913465",
   "metadata": {},
   "outputs": [],
   "source": []
  }
 ],
 "metadata": {
  "kernelspec": {
   "display_name": "Python 3 (ipykernel)",
   "language": "python",
   "name": "python3"
  },
  "language_info": {
   "codemirror_mode": {
    "name": "ipython",
    "version": 3
   },
   "file_extension": ".py",
   "mimetype": "text/x-python",
   "name": "python",
   "nbconvert_exporter": "python",
   "pygments_lexer": "ipython3",
   "version": "3.9.7"
  }
 },
 "nbformat": 4,
 "nbformat_minor": 5
}
